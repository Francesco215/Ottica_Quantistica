{
 "cells": [
  {
   "cell_type": "code",
   "execution_count": 2,
   "metadata": {},
   "outputs": [],
   "source": [
    "import numpy as np\n",
    "from matplotlib import pyplot as plt\n",
    "import scipy\n",
    "import menzalib as mz"
   ]
  },
  {
   "cell_type": "code",
   "execution_count": 3,
   "metadata": {},
   "outputs": [
    {
     "name": "stdout",
     "output_type": "stream",
     "text": [
      "['RMS/qfactor/rms1.txt', 'RMS/qfactor/rms2.txt', 'RMS/qfactor/rms3.txt', 'RMS/qfactor/rms4.txt', 'RMS/qfactor/rms5.txt', 'RMS/qfactor/rms6.txt', 'RMS/qfactor/rms7.txt', 'RMS/qfactor/rms8.txt', 'RMS/qfactor/rms9.txt', 'RMS/qfactor/rms10.txt']\n"
     ]
    }
   ],
   "source": [
    "files=['RMS/qfactor/rms'+str(i)+'.txt' for i in range(1,11)]\n",
    "print(files)\n",
    "curves=[np.transpose(np.loadtxt(file,skiprows=4)) for file in files]"
   ]
  },
  {
   "cell_type": "code",
   "execution_count": 4,
   "metadata": {},
   "outputs": [],
   "source": [
    "def lin_interp(x, y, i, half):\n",
    "    return x[i] + (x[i+1] - x[i]) * ((half - y[i]) / (y[i+1] - y[i]))\n",
    "\n",
    "def half_max_x(x, y):\n",
    "    half = max(y)/2.0\n",
    "    signs = np.sign(np.add(y, -half))\n",
    "    zero_crossings = (signs[0:-2] != signs[1:-1])\n",
    "    zero_crossings_i = np.where(zero_crossings)[0]\n",
    "    return [lin_interp(x, y, zero_crossings_i[0], half),\n",
    "            lin_interp(x, y, zero_crossings_i[1], half)]\n",
    "\n",
    "def std(x,y):\n",
    "    dx=(x[-1]-x[1])/len(x)\n",
    "    norm=np.sum(y)\n",
    "    mean=0\n",
    "    std=0\n",
    "    for i in range(len(x)):\n",
    "        mean=mean+y[i]*x[i]\n",
    "    mean=mean/norm\n",
    "    for i in range(len(x)):\n",
    "        std=std+(x[i]-mean)**2*y[i]\n",
    "    std=np.sqrt(std/norm)\n",
    "    return std"
   ]
  },
  {
   "cell_type": "code",
   "execution_count": 24,
   "metadata": {},
   "outputs": [],
   "source": [
    "STD=[]\n",
    "FWMH=[]\n",
    "Qfac=[]\n",
    "AMP=[]\n",
    "for i in range(len(curves)):\n",
    "    freq,amp=curves[i]\n",
    "    HMY=np.amax(amp)\n",
    "    HMX=half_max_x(freq,amp)\n",
    "    \n",
    "    plt.plot(freq,amp)\n",
    "    plt.ylabel('Amplitude[V]')\n",
    "    plt.xlabel('Frequency[kHz]')\n",
    "    plt.plot(HMX,[HMY/2,HMY/2])\n",
    "    plt.savefig('RMS/immagini/'+str(i)+'.eps',format='eps')\n",
    "    plt.close()\n",
    "    \n",
    "    AMP.append(HMY)\n",
    "    STD.append(std(freq,amp))\n",
    "    FWMH.append((HMX[1]-HMX[0]))\n",
    "    Qfac.append(freq[np.argmax(amp)]/FWMH[i])"
   ]
  },
  {
   "cell_type": "code",
   "execution_count": 6,
   "metadata": {},
   "outputs": [
    {
     "name": "stdout",
     "output_type": "stream",
     "text": [
      "385.2958514116559\n",
      "1.6167340347903696\n",
      "0.48765431824789973\n"
     ]
    }
   ],
   "source": [
    "print(np.average(Qfac))\n",
    "print(np.average(STD))\n",
    "print(np.average(FWMH))"
   ]
  },
  {
   "cell_type": "code",
   "execution_count": 15,
   "metadata": {},
   "outputs": [
    {
     "name": "stdout",
     "output_type": "stream",
     "text": [
      "[2.461, 2.599, 2.466, 2.514, 2.517, 2.549, 2.651, 2.68, 2.743, 2.512]\n"
     ]
    }
   ],
   "source": [
    "col1=mz.ns_tex(Qfac)\n",
    "print(AMP)"
   ]
  },
  {
   "cell_type": "code",
   "execution_count": 25,
   "metadata": {},
   "outputs": [
    {
     "name": "stdout",
     "output_type": "stream",
     "text": [
      "['1', '2', '3', '4', '5', '6', '7', '8', '9', '10', 'Media']\n",
      "['$3.86 \\\\times 10^{2}$' '$3.85 \\\\times 10^{2}$' '$3.84 \\\\times 10^{2}$'\n",
      " '$3.86 \\\\times 10^{2}$' '$3.86 \\\\times 10^{2}$' '$3.85 \\\\times 10^{2}$'\n",
      " '$3.85 \\\\times 10^{2}$' '$3.84 \\\\times 10^{2}$' '$3.85 \\\\times 10^{2}$'\n",
      " '$3.87 \\\\times 10^{2}$' '$3.85 \\\\times 10^{2}$']\n",
      "\n",
      "\n",
      "Copia tutto quello che c'è tra le linee\n",
      "\n",
      "--------------------------\n",
      "\\begin{tabular}{ccc}\n",
      "\t\\hline\n",
      "\t% Qua mettici il titolo, ricordati di mettere le \\\\ alla fine % \n",
      "\t\\hline\n",
      "\t1 & $2.06$ & $1.90$ \\\\\n",
      "\t2 & $2.11$ & $1.93$ \\\\\n",
      "\t3 & $1.99$ & $1.98$ \\\\\n",
      "\t4 & $1.97$ & $2.02$ \\\\\n",
      "\t5 & $2.09$ & $2.05$ \\\\\n",
      "\t6 & $2.10$ & $2.11$ \\\\\n",
      "\t7 & $2.14$ & $2.14$ \\\\\n",
      "\t8 & $2.18$ & $2.18$ \\\\\n",
      "\t9 & $2.00$ & $1.98$ \\\\\n",
      "\t10 & $2.08$ & $1.79$ \\\\\n",
      "\tMedia & $2.07$ & $2.01$ \\\\\n",
      "\t\\hline\n",
      "\\end{tabular}\n",
      "\n",
      "--------------------------\n",
      "\n",
      "\n"
     ]
    }
   ],
   "source": [
    "Amp=[2.061,2.107,1.993,1.972,2.086,2.098,2.137,2.182,1.998,2.080]\n",
    "num=['1','2','3','4','5','6','7','8','9','10','Media']\n",
    "FT=[1.9,1.93,1.98,2.02,2.05,2.11,2.14,2.18,1.98,1.79]\n",
    "Amp.append(np.average(Amp))\n",
    "FT.append(np.average(FT))\n",
    "\n",
    "Amp=mz.ns_tex(Amp)\n",
    "FT=mz.ns_tex(FT)\n",
    "print(num)\n",
    "a=np.average(Qfac)\n",
    "Qfac.append(a)\n",
    "Qfac=mz.ns_tex(Qfac)\n",
    "print(Qfac)\n"
   ]
  },
  {
   "cell_type": "code",
   "execution_count": 26,
   "metadata": {
    "collapsed": true,
    "jupyter": {
     "outputs_hidden": true
    }
   },
   "outputs": [
    {
     "name": "stdout",
     "output_type": "stream",
     "text": [
      "\n",
      "\n",
      "Copia tutto quello che c'è tra le linee\n",
      "\n",
      "--------------------------\n",
      "\\begin{tabular}{cccc}\n",
      "\t\\hline\n",
      "\t% Qua mettici il titolo, ricordati di mettere le \\\\ alla fine % \n",
      "\t\\hline\n",
      "\t1 & $2.06$ & $1.90$ & $3.86 \\times 10^{2}$ \\\\\n",
      "\t2 & $2.11$ & $1.93$ & $3.85 \\times 10^{2}$ \\\\\n",
      "\t3 & $1.99$ & $1.98$ & $3.84 \\times 10^{2}$ \\\\\n",
      "\t4 & $1.97$ & $2.02$ & $3.86 \\times 10^{2}$ \\\\\n",
      "\t5 & $2.09$ & $2.05$ & $3.86 \\times 10^{2}$ \\\\\n",
      "\t6 & $2.10$ & $2.11$ & $3.85 \\times 10^{2}$ \\\\\n",
      "\t7 & $2.14$ & $2.14$ & $3.85 \\times 10^{2}$ \\\\\n",
      "\t8 & $2.18$ & $2.18$ & $3.84 \\times 10^{2}$ \\\\\n",
      "\t9 & $2.00$ & $1.98$ & $3.85 \\times 10^{2}$ \\\\\n",
      "\t10 & $2.08$ & $1.79$ & $3.87 \\times 10^{2}$ \\\\\n",
      "\tMedia & $2.07$ & $2.01$ & $3.85 \\times 10^{2}$ \\\\\n",
      "\t\\hline\n",
      "\\end{tabular}\n",
      "\n",
      "--------------------------\n",
      "\n",
      "\n"
     ]
    }
   ],
   "source": [
    "Mat=[num,Amp,FT,Qfac]\n",
    "mz.mat_tex(Mat)"
   ]
  },
  {
   "cell_type": "code",
   "execution_count": 60,
   "metadata": {},
   "outputs": [],
   "source": [
    "#finds the value of y for witch y=f(x) in couple of array x=[x_1,x_2,...,x_n] and y=[y_1,y_2,...,y_n]\n",
    "def intersection(x,y,const):\n",
    "    signs = np.sign(np.add(x, -const))\n",
    "    zero_crossings = (signs[0:-2] != signs[1:-1])\n",
    "    zero_crossings_i = np.where(zero_crossings)[0]\n",
    "    return [lin_interp(y, x, zero_crossing,const) for zero_crossing in zero_crossings_i]\n"
   ]
  },
  {
   "cell_type": "code",
   "execution_count": 31,
   "metadata": {},
   "outputs": [],
   "source": [
    "libera=np.transpose(np.loadtxt('shift/qfactor.txt',skiprows=4))\n",
    "approach=np.transpose(np.loadtxt('shift/qfactorapproach.txt',skiprows=4))"
   ]
  },
  {
   "cell_type": "code",
   "execution_count": 61,
   "metadata": {},
   "outputs": [
    {
     "name": "stdout",
     "output_type": "stream",
     "text": [
      "[2.039799999999974]\n",
      "187.48956756756755\n"
     ]
    }
   ],
   "source": [
    "#print(intersection(libera[0],libera[1],188))\n",
    "freq_operazione=half_max_x(libera[0], libera[1])[0]\n",
    "print(freq_operazione)\n"
   ]
  },
  {
   "cell_type": "code",
   "execution_count": 86,
   "metadata": {},
   "outputs": [
    {
     "name": "stderr",
     "output_type": "stream",
     "text": [
      "The PostScript backend does not support transparency; partially transparent artists will be rendered opaque.\n",
      "The PostScript backend does not support transparency; partially transparent artists will be rendered opaque.\n"
     ]
    },
    {
     "data": {
      "image/png": "[encoded data removed]",
      "text/plain": [
       "<Figure size 432x288 with 1 Axes>"
      ]
     },
     "metadata": {
      "needs_background": "light"
     },
     "output_type": "display_data"
    }
   ],
   "source": [
    "plt.plot(libera[0],libera[1],label='Osc. lontana\\ndal campione',color='blue')\n",
    "plt.plot(approach[0],approach[1],label='Osc. vicina\\nal campione',color='cyan')\n",
    "x=[freq_operazione,freq_operazione]\n",
    "y=[intersection(approach[0],approach[1],freq_operazione)[0],\n",
    "   intersection(libera[0],libera[1],freq_operazione)[0]]\n",
    "plt.plot(x,y,label='Differenza in \\nampiezza',color='red')\n",
    "plt.ylabel('Amplitude[V]')\n",
    "plt.xlabel('Frequency[kHz]')\n",
    "plt.legend()\n",
    "plt.savefig('shift.eps',format='eps')"
   ]
  },
  {
   "cell_type": "code",
   "execution_count": 83,
   "metadata": {},
   "outputs": [
    {
     "name": "stderr",
     "output_type": "stream",
     "text": [
      "The PostScript backend does not support transparency; partially transparent artists will be rendered opaque.\n",
      "The PostScript backend does not support transparency; partially transparent artists will be rendered opaque.\n"
     ]
    },
    {
     "data": {
      "image/png": "[encoded data removed]",
      "text/plain": [
       "<Figure size 432x288 with 1 Axes>"
      ]
     },
     "metadata": {
      "needs_background": "light"
     },
     "output_type": "display_data"
    }
   ],
   "source": [
    "plt.plot(libera[0],libera[1],label='Osc. lontana\\ndal campione')\n",
    "plt.plot(approach[0],approach[1],label='Osc. vicina\\nal campione')\n",
    "x=[freq_operazione,freq_operazione]\n",
    "y=[intersection(approach[0],approach[1],freq_operazione)[0],\n",
    "   intersection(libera[0],libera[1],freq_operazione)[0]]\n",
    "plt.plot(x,y)\n",
    "plt.ylabel('Amplitude[V]')\n",
    "plt.xlabel('Frequency[kHz]')\n",
    "plt.xlim(187,188)\n",
    "plt.ylim(1.3,1.8)\n",
    "plt.legend()\n",
    "plt.savefig('zoom_shift.eps',format='eps')"
   ]
  },
  {
   "cell_type": "code",
   "execution_count": 72,
   "metadata": {},
   "outputs": [
    {
     "name": "stdout",
     "output_type": "stream",
     "text": [
      "0.2744594594594565\n"
     ]
    }
   ],
   "source": [
    "print(y[0]-y[1])"
   ]
  },
  {
   "cell_type": "code",
   "execution_count": null,
   "metadata": {},
   "outputs": [],
   "source": []
  }
 ],
 "metadata": {
  "kernelspec": {
   "display_name": "Python 3",
   "language": "python",
   "name": "python3"
  },
  "language_info": {
   "codemirror_mode": {
    "name": "ipython",
    "version": 3
   },
   "file_extension": ".py",
   "mimetype": "text/x-python",
   "name": "python",
   "nbconvert_exporter": "python",
   "pygments_lexer": "ipython3",
   "version": "3.7.4"
  }
 },
 "nbformat": 4,
 "nbformat_minor": 4
}
