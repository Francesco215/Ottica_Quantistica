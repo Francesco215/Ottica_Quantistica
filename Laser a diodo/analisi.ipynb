{
 "cells": [
  {
   "cell_type": "code",
   "execution_count": 1,
   "metadata": {},
   "outputs": [],
   "source": [
    "import numpy as np\n",
    "import matplotlib.pyplot as plt\n",
    "from scipy.optimize import curve_fit\n",
    "import menzalib as mz"
   ]
  },
  {
   "cell_type": "code",
   "execution_count": 2,
   "metadata": {},
   "outputs": [],
   "source": [
    "ty,Iy=np.loadtxt('2_Theta_par.txt',unpack=True)\n",
    "tx,Ix=np.loadtxt('2_Theta_perp.txt',unpack=True)\n",
    "tx=tx-180\n",
    "ty=ty-180\n",
    "def gauss(x,x_0,sigma,A):\n",
    "    return A*np.exp(-(x-x_0)**2/(2*sigma**2))/(sigma*np.sqrt(2*np.pi))"
   ]
  },
  {
   "cell_type": "code",
   "execution_count": 3,
   "metadata": {},
   "outputs": [
    {
     "data": {
      "image/png": "[encoded data removed]",
      "text/plain": [
       "<Figure size 432x288 with 1 Axes>"
      ]
     },
     "metadata": {
      "needs_background": "light"
     },
     "output_type": "display_data"
    }
   ],
   "source": [
    "popt,pcov=curve_fit(gauss,tx,Ix,p0=[0,10,50])\n",
    "x=np.linspace(-40,40,100)\n",
    "y=gauss(x,*popt)\n",
    "plt.plot(tx,Ix,'r.')\n",
    "plt.plot(x,y,'-',color='orange')\n",
    "sigmax,dsigmax=popt[1],pcov[1][1]\n",
    "\n",
    "popt,pcov=curve_fit(gauss,ty,Iy,p0=[0,20,100])\n",
    "x=np.linspace(-20,20,100)\n",
    "y=gauss(x,*popt)\n",
    "plt.plot(ty,Iy,'b.')\n",
    "plt.plot(x,y,color='green')\n",
    "sigmay,dsigmay=popt[1],pcov[1][1]\n",
    "\n",
    "\n",
    "plt.ylabel('I[µA]')\n",
    "plt.xlabel('θ[gradi]')\n",
    "plt.savefig('cosa_radiale.eps',format='eps')"
   ]
  },
  {
   "cell_type": "code",
   "execution_count": 4,
   "metadata": {},
   "outputs": [
    {
     "name": "stdout",
     "output_type": "stream",
     "text": [
      "$(1.2207 \\pm 0.0007) \\times 10^{1}$\n",
      "$4.4795 \\pm 0.0002$\n"
     ]
    }
   ],
   "source": [
    "print(mz.ne_tex(sigmax,dsigmax))\n",
    "print(mz.ne_tex(sigmay,dsigmay))\n",
    "sigmax=sigmax*np.pi/180\n",
    "sigmay=sigmay*np.pi/180"
   ]
  },
  {
   "cell_type": "code",
   "execution_count": 11,
   "metadata": {},
   "outputs": [
    {
     "name": "stdout",
     "output_type": "stream",
     "text": [
      "$(5.8 \\pm 0.2) \\times 10^{-7}$\n",
      "$(1.59 \\pm 0.03) \\times 10^{-6}$\n",
      "$780 \\pm 10$nm\n"
     ]
    }
   ],
   "source": [
    "lambmin,lambmax=770e-9,795e-9\n",
    "lamb,dlamb=(lambmin+lambmax)/2,(lambmax-lambmin)/2\n",
    "Ax,dAx=lamb/(2*np.pi*sigmax),mz.drapp(lamb,dlamb,sigmax,dsigmax)/(2*np.pi)\n",
    "Ay,dAy=lamb/(2*np.pi*sigmay),mz.drapp(lamb,dlamb,sigmay,dsigmay)/(2*np.pi)\n",
    "\n",
    "print(mz.ne_tex(Ax,dAx))\n",
    "print(mz.ne_tex(Ay,dAy))\n",
    "print(mz.ne_tex(lamb,dlamb,'m'))"
   ]
  },
  {
   "cell_type": "markdown",
   "metadata": {},
   "source": [
    "# Parte 3"
   ]
  },
  {
   "cell_type": "code",
   "execution_count": 7,
   "metadata": {},
   "outputs": [
    {
     "name": "stdout",
     "output_type": "stream",
     "text": [
      "2.922813125512182e-07 1.38342789278541e-07\n"
     ]
    }
   ],
   "source": [
    "print(Ax,dAx)\n",
    "#T,dT,lamb,dlamb=np.loadtxt('3_Lambda_vs_t.txt')"
   ]
  },
  {
   "cell_type": "code",
   "execution_count": null,
   "metadata": {},
   "outputs": [],
   "source": []
  }
 ],
 "metadata": {
  "kernelspec": {
   "display_name": "Python 3",
   "language": "python",
   "name": "python3"
  },
  "language_info": {
   "codemirror_mode": {
    "name": "ipython",
    "version": 3
   },
   "file_extension": ".py",
   "mimetype": "text/x-python",
   "name": "python",
   "nbconvert_exporter": "python",
   "pygments_lexer": "ipython3",
   "version": "3.7.4"
  }
 },
 "nbformat": 4,
 "nbformat_minor": 4
}
