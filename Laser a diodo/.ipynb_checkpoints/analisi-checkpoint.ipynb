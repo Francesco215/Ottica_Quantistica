{
 "cells": [
  {
   "cell_type": "code",
   "execution_count": 2,
   "metadata": {},
   "outputs": [],
   "source": [
    "import numpy as np\n",
    "import matplotlib.pyplot as plt"
   ]
  },
  {
   "cell_type": "code",
   "execution_count": 5,
   "metadata": {},
   "outputs": [
    {
     "name": "stdout",
     "output_type": "stream",
     "text": [
      "[161. 162. 163. 164. 165. 166. 167. 168. 169. 170. 171. 172. 173. 174.\n",
      " 175. 176. 177. 178. 179. 180. 181. 182. 183. 184. 185. 186. 187. 188.\n",
      " 189. 190. 191. 192. 193. 194. 195. 196. 197. 198.]\n"
     ]
    }
   ],
   "source": [
    "tx,Ix=np.loadtxt('2_Theta_par.txt',unpack=True)\n",
    "ty,Iy=np.loadtxt('2_Theta_perp.txt',unpack=True)\n",
    "print(tx)"
   ]
  },
  {
   "cell_type": "code",
   "execution_count": null,
   "metadata": {},
   "outputs": [],
   "source": []
  }
 ],
 "metadata": {
  "kernelspec": {
   "display_name": "Python 3",
   "language": "python",
   "name": "python3"
  },
  "language_info": {
   "codemirror_mode": {
    "name": "ipython",
    "version": 3
   },
   "file_extension": ".py",
   "mimetype": "text/x-python",
   "name": "python",
   "nbconvert_exporter": "python",
   "pygments_lexer": "ipython3",
   "version": "3.7.4"
  }
 },
 "nbformat": 4,
 "nbformat_minor": 4
}
