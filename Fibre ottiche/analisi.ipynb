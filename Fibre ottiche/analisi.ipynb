{
 "cells": [
  {
   "cell_type": "code",
   "execution_count": 1,
   "metadata": {},
   "outputs": [],
   "source": [
    "import numpy as np\n",
    "from matplotlib import pyplot as plt\n",
    "import pandas as pd\n",
    "from scipy.optimize import curve_fit\n",
    "from scipy.stats import linregress\n",
    "import menzalib as mz"
   ]
  },
  {
   "cell_type": "code",
   "execution_count": 2,
   "metadata": {},
   "outputs": [],
   "source": [
    "def lin_interp(x, y, i, half):\n",
    "    return x[i] + (x[i+1] - x[i]) * ((half - y[i]) / (y[i+1] - y[i]))\n",
    "\n",
    "def dlin_interp(x0,y0,x1,y1,const,errori):\n",
    "    #errori=[dx0,dy0,dx1,dx2,dconst]\n",
    "    x0+(x1-x0)*(const-y0)/(y0-y1)\n",
    "    grad=[1-(const-y0)/(y0-y1),\n",
    "         -(x1-x0)*((const-y0)/(y0-y1)+1)/(y0-y1),\n",
    "         (const-y0)/(y0-y1),\n",
    "         (x1-x0)*(const-y0)/(y0-y1)**2,\n",
    "         (x1-x0)/(y0-y1)\n",
    "          ]\n",
    "    grad=np.array(grad)**2\n",
    "    errori=np.array(errori)**2\n",
    "    return np.sqrt(np.dot(grad,errori))\n",
    "\n",
    "\n",
    "def intersection(x,y,const,dx=0,dy=0,dconst=0):\n",
    "#finds the value of y for witch y=f(x) in couple of array x=[x_1,x_2,...,x_n] and y=[y_1,y_2,...,y_n]\n",
    "    signs = np.sign(np.add(x, -const))\n",
    "    zero_crossings = (signs[0:-2] != signs[1:-1])\n",
    "    zero_crossings_i = np.where(zero_crossings)[0]\n",
    "    return [[lin_interp(y, x, zero_crossing,const) for zero_crossing in zero_crossings_i],\n",
    "    [dlin_interp(x[i],y[i],x[i+1],y[i+1],const,[dx[i],dy[i],dx[i+1],dy[i+1],dconst]) for i in zero_crossings_i]]\n"
   ]
  },
  {
   "cell_type": "code",
   "execution_count": 11,
   "metadata": {},
   "outputs": [],
   "source": [
    "data = pd.read_csv('potenza_angolo.txt', sep=\"\\t\")\n",
    "data=data.sort_values(by=['Angolo'])\n",
    "ang,W,dW=np.transpose(data.values)\n",
    "dW=dW+0.01\n",
    "col1=mz.ns_tex(ang,1)\n",
    "col2=mz.ne_tex(W,dW)\n",
    "#mz.mat_tex([col1,col2])"
   ]
  },
  {
   "cell_type": "code",
   "execution_count": 81,
   "metadata": {},
   "outputs": [],
   "source": [
    "def pearson(theta,theta0,Imax,w,m):\n",
    "    return Imax*w**(2*m)/(w**2+(2**(1/m)-1)*(theta-theta0)**2)**m\n",
    "\n",
    "def dpearson(theta,theta0,Imax,w,m):\n",
    "    a=(2**(1/m)-1)\n",
    "    b=-m*Imax*w**(2*m)*2*a*(theta-theta0)/(w**2+a*(theta-theta0)**2)**(m+1)\n",
    "    return b\n",
    "\n",
    "popt,pcov=mz.curve_fitdx(pearson,ang,W,p0=[-0.5,28,2,3],dy=dW,dx=1,df=dpearson)\n",
    "print('Imax=',mz.ne_tex(popt[1],np.sqrt(pcov[0,0])))\n",
    "x=np.linspace(ang[0],ang[-1],100)\n",
    "y=pearson(x,*popt)"
   ]
  },
  {
   "cell_type": "code",
   "execution_count": 21,
   "metadata": {},
   "outputs": [
    {
     "name": "stdout",
     "output_type": "stream",
     "text": [
      "NA = $(1.8 \\pm 0.2) \\times 10^{1}$\n"
     ]
    }
   ],
   "source": [
    "NA,dNA=intersection(W,ang,np.amax(W)/20,dW,np.ones(len(ang)),np.amax(dW)/20)\n",
    "print('NA =',mz.ne_tex((NA[1]-NA[0])/2,np.sqrt(dNA[0]**2+dNA[1]**2)/2))"
   ]
  },
  {
   "cell_type": "code",
   "execution_count": 22,
   "metadata": {},
   "outputs": [
    {
     "data": {
      "image/png": "[encoded data removed]",
      "text/plain": "<Figure size 432x288 with 1 Axes>"
     },
     "metadata": {
      "needs_background": "light"
     },
     "output_type": "display_data"
    }
   ],
   "source": [
    "plt.plot(NA,np.amax(W)/20*np.array([1,1]))\n",
    "plt.errorbar(ang,W,dW,1)\n",
    "plt.ylabel('Potenza[μW]')\n",
    "plt.xlabel('Angolo[deg]')\n",
    "plt.savefig('potenza_angolo.eps',format='eps')\n",
    "#plt.savefig('potenza_angolo.png')\n",
    "#popt,pcov=curve_fit(pearson,ang,W,p0=[-0.5,28,2,3])\n"
   ]
  },
  {
   "cell_type": "code",
   "execution_count": 23,
   "metadata": {},
   "outputs": [],
   "source": [
    "def fit(x,a,b):\n",
    "    return a*x**(-4)+b\n",
    "\n",
    "def att(Iin,Iout,L):\n",
    "    return 10*np.log10(Iin/Iout)/L\n",
    "\n",
    "def datt(Iin,dIin,Iout,dIout,L,dL):\n",
    "    d1=np.log(Iin/Iout)*dL/L\n",
    "    d2=dIin/(L*Iin)\n",
    "    d3=dIout/(L*Iout)\n",
    "    return 10*np.sqrt(d1**2+d2**2+d3**2)/np.log(10)\n",
    "\n",
    "def att_con_err(Iin,dIin,Iout,dIout,L,dL):\n",
    "    return att(Iin,Iout,L), datt(Iin,dIin,Iout,dIout,L,dL)\n"
   ]
  },
  {
   "cell_type": "code",
   "execution_count": 24,
   "metadata": {},
   "outputs": [
    {
     "data": {
      "image/png": "[encoded data removed]",
      "text/plain": "<Figure size 432x288 with 1 Axes>"
     },
     "metadata": {
      "needs_background": "light"
     },
     "output_type": "display_data"
    }
   ],
   "source": [
    "lung=[633,533,850,1300]\n",
    "dI=0.1\n",
    "\n",
    "\n",
    "Iin=[29.1,13]\n",
    "dIin=[0.8,0.4]\n",
    "Iout=[13.3,1.5]\n",
    "dIout=[0.4,0.2]\n",
    "L=[415e-3,412e-3]\n",
    "dL=[1e-3,1e-3]\n",
    "\n",
    "\n",
    "attHeNe,dattHeNe=att_con_err(Iin[0],dIin[0],Iout[0],dIout[0],L[0],dL[0])\n",
    "attVerde,dattVerde=att_con_err(Iin[1],dIin[1],Iout[1],dIout[1],L[1],dL[1])\n",
    "att=[attHeNe,attVerde,4,1.5]\n",
    "datt=[dattHeNe,dattVerde,0.1,0.1]\n",
    "\n",
    "x=[i**(-4) for i in lung]\n",
    "popt=linregress(x,att)\n",
    "popt=[popt[0],popt[1]]\n",
    "\n",
    "popt,pcov=curve_fit(fit,lung,att,p0=popt,sigma=datt)\n",
    "\n",
    "x=np.linspace(510,1330,100)\n",
    "y=fit(x,*popt)\n",
    "plt.plot(x,y)\n",
    "plt.errorbar(lung,att,yerr=datt,fmt='.')\n",
    "plt.xlabel('Lunghezza d\\'onda[nm]')\n",
    "plt.ylabel('Attenuazione[dB/km]')\n",
    "plt.savefig('Rayleigh.eps',format='eps')"
   ]
  },
  {
   "cell_type": "code",
   "execution_count": 28,
   "metadata": {},
   "outputs": [
    {
     "name": "stdout",
     "output_type": "stream",
     "text": [
      "$8.2 \\pm 0.4$\n",
      "$(2.3 \\pm 0.1) \\times 10^{1}$\n",
      "a viene uguale a $(1.4 \\pm 0.2) \\times 10^{12}$\n",
      "b viene uguale a $1.1 \\pm 0.4$\n"
     ]
    }
   ],
   "source": [
    "print(mz.ne_tex(attHeNe,dattHeNe))\n",
    "print(mz.ne_tex(attVerde,dattVerde))\n",
    "print('a viene uguale a',mz.ne_tex(popt[0],np.sqrt(pcov[0,0])))\n",
    "print('b viene uguale a',mz.ne_tex(popt[1],np.sqrt(pcov[1,1])))"
   ]
  },
  {
   "cell_type": "code",
   "execution_count": null,
   "metadata": {},
   "outputs": [],
   "source": []
  }
 ],
 "metadata": {
  "kernelspec": {
   "display_name": "Python 3.7.4 64-bit ('base': conda)",
   "name": "python374jvsc74a57bd0dca0ade3e726a953b501b15e8e990130d2b7799f14cfd9f4271676035ebe5511"
  },
  "language_info": {
   "codemirror_mode": {
    "name": "ipython",
    "version": 3
   },
   "file_extension": ".py",
   "mimetype": "text/x-python",
   "name": "python",
   "nbconvert_exporter": "python",
   "pygments_lexer": "ipython3",
   "version": "3.7.4"
  }
 },
 "nbformat": 4,
 "nbformat_minor": 4
}